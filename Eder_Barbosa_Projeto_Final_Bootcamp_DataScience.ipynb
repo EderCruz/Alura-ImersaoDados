{
  "nbformat": 4,
  "nbformat_minor": 0,
  "metadata": {
    "colab": {
      "name": "Eder_Barbosa - Projeto Final - Bootcamp - DataScience.ipynb",
      "provenance": [],
      "toc_visible": true,
      "authorship_tag": "ABX9TyP+IxsfiCDhenLEqYJPVA9Z",
      "include_colab_link": true
    },
    "kernelspec": {
      "name": "python3",
      "display_name": "Python 3"
    }
  },
  "cells": [
    {
      "cell_type": "markdown",
      "metadata": {
        "id": "view-in-github",
        "colab_type": "text"
      },
      "source": [
        "<a href=\"https://colab.research.google.com/github/EderCruz/Alura-ImersaoDados/blob/main/Eder_Barbosa_Projeto_Final_Bootcamp_DataScience.ipynb\" target=\"_parent\"><img src=\"https://colab.research.google.com/assets/colab-badge.svg\" alt=\"Open In Colab\"/></a>"
      ]
    },
    {
      "cell_type": "markdown",
      "metadata": {
        "id": "TLXqwWzXiV1w"
      },
      "source": [
        "###**Aluno:** Eder Cruz Barbosa\n",
        "https://www.linkedin.com/in/eder-barbosa-92908411a/\n",
        "\n",
        "https://github.com/EderCruz"
      ]
    },
    {
      "cell_type": "markdown",
      "metadata": {
        "id": "AfUUjUd7iZ0l"
      },
      "source": [
        "###**PROJETO Final - Bootcamp Ciência de Dados:** \n",
        "###**Predição de Admissão na UTI do Hospital Sírio Libanês utilizando PCA**"
      ]
    },
    {
      "cell_type": "markdown",
      "metadata": {
        "id": "C20Je2G3jbmW"
      },
      "source": [
        "#RESUMO\n",
        "Este trabalho, **mega desafio do Módulo 02 - \n",
        "Analisar os casos de COVID-19 em uma perspectiva de Séries Temporais**, se propõe a verificar  a relação da cobertura vacinal do Brasil, da quantidade de vacinas inoculadas, também enfatizando na 1º e 2º dose de tríplice viral, correlacionando com propagação de fake news, os movimentos antivacina, as eleições presidências de 2018, e o **Efeito Bolsonaro** no contexto da pandemia de COVID19[12].\n",
        "\n",
        "Dados Análisados:\n",
        " - Cobertura Vacinal de 2014 a 2019 por UF (TabSus)\n",
        " - Mapa do 2º turno das eleições presidências de 2018 por UF (Wikipedia)"
      ]
    },
    {
      "cell_type": "markdown",
      "metadata": {
        "id": "3d5i2Y2hjkJk"
      },
      "source": [
        "#1. Introdução\n",
        "A pandemia de COVID-19 (*Coronavirus Disease 2019*) é caracterizada pelae proliferação de uma doença respiratória causada pelo vetor coronavírus da síndrome respiratória aguda grave 2 (*SARS-CoV-2*) [1][2]. O primeiro registro desta doença é de dezembro de 2019 em Wuhan, na China [3], em  janeiro de 2020, a Organização Mundial da Saúde (OMS) classificou como Emergência de Saúde Pública de Âmbito Internacional e, em 11 de março de 2020, como pandemia [2]. \n",
        "\n",
        "Desde do inicio a pandemia a COVID-19 vem causando colapso no sistemas de sáude ao redor do mundo e sobrecarregando Unidades de Terapia Intensivo (UTI), necessitando da reelaboração os críterios de admissão nesses locais de tratamento. Médicos intensivistas, por fim, são incubidos da difícil responsabilidade de decidir quais pacientes devem ou naõ serem encaminhados para a UTI [4]\n",
        "\n",
        ">*Entendemos que os médicos não devem arcar sozinhos com o peso de decisões emocionalmente tão difíceis e que a população deva ter que arcar com o trauma de testemunhar mortes que poderiam ser evitadas com a ampliação de serviços*[4]\n",
        "\n",
        "Até a data presente deste trabalho (18/04/2021), o Brasil acumulou 13.900.901 casos, 371.678 óbitos acumulados, e o recorde de 4.249 morte em 24 horas no dia 08/04/2021 [5].\n",
        "\n",
        "Neste contexto, surge a necessidade de obter um modelo de predição que possa amenizar o colapso do sistema de saude e considere os elementos de admissão em UTI (Quantidade de camas, Recursos Humanos, Profissionais capacitados etc).\n",
        "\n",
        "Utilizando os dados disponibilizados pelo Hospital Sirio libanês - São Paulo e Brasília, sobre admissão em UTI, disponiveis no plataforma kaggle [6], este trabalho se propõe a analisar estes dados e utilizar um algoritmo de predição que possa auxiliar na tomada de decisão na admissão de paciente em UTI.\n",
        "\n",
        "Nesta base de dados encontramos quatro grupos de informações:\n",
        "\n",
        "- Informação demográfica - 3 variáveis\n",
        "- Doenças pré-existentes - 9 variáveis\n",
        "- Resultados do exame de sangue - 36 variáveis\n",
        "- Sinais vitais - 6 variáveis\n",
        "\n",
        "O objetivo, portanto, é prever quais pacientes precisarão ser admitidos na UTI a partir dos dados clínicos individuais disponíveis.\n",
        "\n"
      ]
    },
    {
      "cell_type": "markdown",
      "metadata": {
        "id": "Rqr_tnhWjvXN"
      },
      "source": [
        "#8. Referências\n",
        "###[1] COVID-19 \n",
        ">https://pt.wikipedia.org/wiki/COVID-19\n",
        "###[2] Pandemia de COVID-19\n",
        ">https://pt.wikipedia.org/wiki/Pandemia_de_COVID-19\n",
        "###[3] The COVID-19 coronavirus epidemic has a natural origin, scientists say\n",
        ">https://www.eurekalert.org/pub_releases/2020-03/sri-tcc031720.php\n",
        "###[4] Diante dafalta de vagas medicos discutem regras para escolher quem vai para uti\n",
        ">https://oglobo.globo.com/sociedade/diante-da-falta-de-vagas-medicos-discutem-regras-para-escolher-quem-vai-para-uti-24962507\n",
        "###[5] COVID-19 NO BRASIL - Casos e Óbitos\n",
        ">https://susanalitico.saude.gov.br/extensions/covid-19_html/covid-19_html.html\n",
        "###[6] COVID-19 - Clinical Data to assess diagnosis Sírio-Libanês data for AI and Analytics by Data Intelligence Team\n",
        ">https://www.kaggle.com/S%C3%ADrio-Libanes/covid19\n"
      ]
    },
    {
      "cell_type": "code",
      "metadata": {
        "id": "niFFwnf8iLPq"
      },
      "source": [
        ""
      ],
      "execution_count": null,
      "outputs": []
    }
  ]
}